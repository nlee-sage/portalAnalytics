{
 "cells": [
  {
   "cell_type": "markdown",
   "metadata": {},
   "source": [
    "# Goal\n",
    "\n",
    "- Predict file format\n"
   ]
  },
  {
   "cell_type": "code",
   "execution_count": 1,
   "metadata": {},
   "outputs": [],
   "source": [
    "import pandas as pd\n",
    "import numpy as np\n",
    "import toolbox # my own little package I made to help with curation work\n",
    "\n",
    "import seaborn as sns\n",
    "import matplotlib.pyplot as plt"
   ]
  },
  {
   "cell_type": "code",
   "execution_count": 2,
   "metadata": {},
   "outputs": [
    {
     "name": "stdout",
     "output_type": "stream",
     "text": [
      "<class 'pandas.core.frame.DataFrame'>\n",
      "Int64Index: 551522 entries, 0 to 583176\n",
      "Data columns (total 8 columns):\n",
      " #   Column      Non-Null Count   Dtype \n",
      "---  ------      --------------   ----- \n",
      " 0   id          551522 non-null  object\n",
      " 1   type        551187 non-null  object\n",
      " 2   PORTAL      551522 non-null  object\n",
      " 3   name        551522 non-null  object\n",
      " 4   fileFormat  539149 non-null  object\n",
      " 5   study       511430 non-null  object\n",
      " 6   assay       370700 non-null  object\n",
      " 7   dataType    332736 non-null  object\n",
      "dtypes: object(8)\n",
      "memory usage: 37.9+ MB\n"
     ]
    }
   ],
   "source": [
    "df = pd.read_csv(\"./data/cleaned-data-20231031.csv\", low_memory=False)\n",
    "df = df.loc[\n",
    "    :,\n",
    "    [\n",
    "        \"id\",\n",
    "        \"type\",\n",
    "        \"PORTAL\",\n",
    "        \"name\",\n",
    "        \"fileFormat\",\n",
    "        \"study\",\n",
    "        \"assay\",\n",
    "        \"dataType\",\n",
    "        # \"dataSubtype\",\n",
    "        # \"resourceType\",\n",
    "    ],\n",
    "]\n",
    "\n",
    "df = df[df[\"type\"] != \"folder\"]\n",
    "\n",
    "df.info()"
   ]
  },
  {
   "cell_type": "code",
   "execution_count": 3,
   "metadata": {},
   "outputs": [
    {
     "name": "stdout",
     "output_type": "stream",
     "text": [
      "<class 'pandas.core.frame.DataFrame'>\n",
      "Int64Index: 328169 entries, 0 to 582765\n",
      "Data columns (total 8 columns):\n",
      " #   Column      Non-Null Count   Dtype \n",
      "---  ------      --------------   ----- \n",
      " 0   id          328169 non-null  object\n",
      " 1   type        328169 non-null  object\n",
      " 2   PORTAL      328169 non-null  object\n",
      " 3   name        328169 non-null  object\n",
      " 4   fileFormat  328169 non-null  object\n",
      " 5   study       328169 non-null  object\n",
      " 6   assay       328169 non-null  object\n",
      " 7   dataType    328169 non-null  object\n",
      "dtypes: object(8)\n",
      "memory usage: 22.5+ MB\n"
     ]
    }
   ],
   "source": [
    "df_full = df.dropna(how=\"any\")\n",
    "df_full = df_full[\n",
    "    df_full[\"assay\"].fillna(\"\").str.split(\",\").apply(lambda x: len(x)) == 1\n",
    "]  # keeping only one assay per file for now\n",
    "df_full.info()"
   ]
  },
  {
   "cell_type": "code",
   "execution_count": 4,
   "metadata": {},
   "outputs": [
    {
     "data": {
      "text/html": [
       "<div>\n",
       "<style scoped>\n",
       "    .dataframe tbody tr th:only-of-type {\n",
       "        vertical-align: middle;\n",
       "    }\n",
       "\n",
       "    .dataframe tbody tr th {\n",
       "        vertical-align: top;\n",
       "    }\n",
       "\n",
       "    .dataframe thead th {\n",
       "        text-align: right;\n",
       "    }\n",
       "</style>\n",
       "<table border=\"1\" class=\"dataframe\">\n",
       "  <thead>\n",
       "    <tr style=\"text-align: right;\">\n",
       "      <th></th>\n",
       "      <th>id</th>\n",
       "      <th>type</th>\n",
       "      <th>PORTAL</th>\n",
       "      <th>name</th>\n",
       "      <th>fileFormat</th>\n",
       "      <th>study</th>\n",
       "      <th>assay</th>\n",
       "      <th>dataType</th>\n",
       "    </tr>\n",
       "  </thead>\n",
       "  <tbody>\n",
       "    <tr>\n",
       "      <th>0</th>\n",
       "      <td>syn27021908</td>\n",
       "      <td>file</td>\n",
       "      <td>ad</td>\n",
       "      <td>R3928849-DLPFC.final.cram.crai</td>\n",
       "      <td>crai</td>\n",
       "      <td>AMP-AD_DiverseCohorts</td>\n",
       "      <td>whole genome sequencing assay</td>\n",
       "      <td>genomicVariants</td>\n",
       "    </tr>\n",
       "    <tr>\n",
       "      <th>1</th>\n",
       "      <td>syn27021914</td>\n",
       "      <td>file</td>\n",
       "      <td>ad</td>\n",
       "      <td>R5143011-DLPFC.final.cram.crai</td>\n",
       "      <td>crai</td>\n",
       "      <td>AMP-AD_DiverseCohorts</td>\n",
       "      <td>whole genome sequencing assay</td>\n",
       "      <td>genomicVariants</td>\n",
       "    </tr>\n",
       "    <tr>\n",
       "      <th>2</th>\n",
       "      <td>syn27021919</td>\n",
       "      <td>file</td>\n",
       "      <td>ad</td>\n",
       "      <td>R9609047-DLPFC.final.cram.crai</td>\n",
       "      <td>crai</td>\n",
       "      <td>AMP-AD_DiverseCohorts</td>\n",
       "      <td>whole genome sequencing assay</td>\n",
       "      <td>genomicVariants</td>\n",
       "    </tr>\n",
       "    <tr>\n",
       "      <th>3</th>\n",
       "      <td>syn27021925</td>\n",
       "      <td>file</td>\n",
       "      <td>ad</td>\n",
       "      <td>R9693165-DLPFC.final.cram.crai</td>\n",
       "      <td>crai</td>\n",
       "      <td>AMP-AD_DiverseCohorts</td>\n",
       "      <td>whole genome sequencing assay</td>\n",
       "      <td>genomicVariants</td>\n",
       "    </tr>\n",
       "    <tr>\n",
       "      <th>4</th>\n",
       "      <td>syn27021929</td>\n",
       "      <td>file</td>\n",
       "      <td>ad</td>\n",
       "      <td>R5422277-DLPFC.final.cram.crai</td>\n",
       "      <td>crai</td>\n",
       "      <td>AMP-AD_DiverseCohorts</td>\n",
       "      <td>whole genome sequencing assay</td>\n",
       "      <td>genomicVariants</td>\n",
       "    </tr>\n",
       "    <tr>\n",
       "      <th>...</th>\n",
       "      <td>...</td>\n",
       "      <td>...</td>\n",
       "      <td>...</td>\n",
       "      <td>...</td>\n",
       "      <td>...</td>\n",
       "      <td>...</td>\n",
       "      <td>...</td>\n",
       "      <td>...</td>\n",
       "    </tr>\n",
       "    <tr>\n",
       "      <th>582749</th>\n",
       "      <td>syn26347224</td>\n",
       "      <td>file</td>\n",
       "      <td>psychencode</td>\n",
       "      <td>mi2015_896_r_S3_R1_001.fastq.gz</td>\n",
       "      <td>gz</td>\n",
       "      <td>BrainGVEX</td>\n",
       "      <td>miRNA-seq assay</td>\n",
       "      <td>geneExpression</td>\n",
       "    </tr>\n",
       "    <tr>\n",
       "      <th>582750</th>\n",
       "      <td>syn26347226</td>\n",
       "      <td>file</td>\n",
       "      <td>psychencode</td>\n",
       "      <td>mi2015_1453_r_S17_R1_001.fastq.gz</td>\n",
       "      <td>gz</td>\n",
       "      <td>BrainGVEX</td>\n",
       "      <td>miRNA-seq assay</td>\n",
       "      <td>geneExpression</td>\n",
       "    </tr>\n",
       "    <tr>\n",
       "      <th>582751</th>\n",
       "      <td>syn26347228</td>\n",
       "      <td>file</td>\n",
       "      <td>psychencode</td>\n",
       "      <td>mi2015_918_S14_R1_001.fastq.gz</td>\n",
       "      <td>gz</td>\n",
       "      <td>BrainGVEX</td>\n",
       "      <td>miRNA-seq assay</td>\n",
       "      <td>geneExpression</td>\n",
       "    </tr>\n",
       "    <tr>\n",
       "      <th>582759</th>\n",
       "      <td>syn26453724</td>\n",
       "      <td>file</td>\n",
       "      <td>psychencode</td>\n",
       "      <td>SL424495_GSLv5-8_i7_45.merge.fastq.gz</td>\n",
       "      <td>gz</td>\n",
       "      <td>BrainTF</td>\n",
       "      <td>ChIP-seq assay</td>\n",
       "      <td>chromatinActivity</td>\n",
       "    </tr>\n",
       "    <tr>\n",
       "      <th>582765</th>\n",
       "      <td>syn27727848</td>\n",
       "      <td>file</td>\n",
       "      <td>psychencode</td>\n",
       "      <td>quant_peaks_1FDR_minOverlap2_300bpExt_150_TMM_...</td>\n",
       "      <td>gz</td>\n",
       "      <td>HumanFC</td>\n",
       "      <td>ATAC-seq assay</td>\n",
       "      <td>epigenetics</td>\n",
       "    </tr>\n",
       "  </tbody>\n",
       "</table>\n",
       "<p>328169 rows × 8 columns</p>\n",
       "</div>"
      ],
      "text/plain": [
       "                 id  type       PORTAL  \\\n",
       "0       syn27021908  file           ad   \n",
       "1       syn27021914  file           ad   \n",
       "2       syn27021919  file           ad   \n",
       "3       syn27021925  file           ad   \n",
       "4       syn27021929  file           ad   \n",
       "...             ...   ...          ...   \n",
       "582749  syn26347224  file  psychencode   \n",
       "582750  syn26347226  file  psychencode   \n",
       "582751  syn26347228  file  psychencode   \n",
       "582759  syn26453724  file  psychencode   \n",
       "582765  syn27727848  file  psychencode   \n",
       "\n",
       "                                                     name fileFormat  \\\n",
       "0                          R3928849-DLPFC.final.cram.crai       crai   \n",
       "1                          R5143011-DLPFC.final.cram.crai       crai   \n",
       "2                          R9609047-DLPFC.final.cram.crai       crai   \n",
       "3                          R9693165-DLPFC.final.cram.crai       crai   \n",
       "4                          R5422277-DLPFC.final.cram.crai       crai   \n",
       "...                                                   ...        ...   \n",
       "582749                    mi2015_896_r_S3_R1_001.fastq.gz         gz   \n",
       "582750                  mi2015_1453_r_S17_R1_001.fastq.gz         gz   \n",
       "582751                     mi2015_918_S14_R1_001.fastq.gz         gz   \n",
       "582759              SL424495_GSLv5-8_i7_45.merge.fastq.gz         gz   \n",
       "582765  quant_peaks_1FDR_minOverlap2_300bpExt_150_TMM_...         gz   \n",
       "\n",
       "                        study                          assay  \\\n",
       "0       AMP-AD_DiverseCohorts  whole genome sequencing assay   \n",
       "1       AMP-AD_DiverseCohorts  whole genome sequencing assay   \n",
       "2       AMP-AD_DiverseCohorts  whole genome sequencing assay   \n",
       "3       AMP-AD_DiverseCohorts  whole genome sequencing assay   \n",
       "4       AMP-AD_DiverseCohorts  whole genome sequencing assay   \n",
       "...                       ...                            ...   \n",
       "582749              BrainGVEX                miRNA-seq assay   \n",
       "582750              BrainGVEX                miRNA-seq assay   \n",
       "582751              BrainGVEX                miRNA-seq assay   \n",
       "582759                BrainTF                 ChIP-seq assay   \n",
       "582765                HumanFC                 ATAC-seq assay   \n",
       "\n",
       "                 dataType  \n",
       "0         genomicVariants  \n",
       "1         genomicVariants  \n",
       "2         genomicVariants  \n",
       "3         genomicVariants  \n",
       "4         genomicVariants  \n",
       "...                   ...  \n",
       "582749     geneExpression  \n",
       "582750     geneExpression  \n",
       "582751     geneExpression  \n",
       "582759  chromatinActivity  \n",
       "582765        epigenetics  \n",
       "\n",
       "[328169 rows x 8 columns]"
      ]
     },
     "execution_count": 4,
     "metadata": {},
     "output_type": "execute_result"
    }
   ],
   "source": [
    "df_full"
   ]
  },
  {
   "cell_type": "code",
   "execution_count": 5,
   "metadata": {},
   "outputs": [
    {
     "data": {
      "text/plain": [
       "['RNA-seq assay',\n",
       " 'whole genome sequencing assay',\n",
       " 'methylation array',\n",
       " 'ChIP-seq assay',\n",
       " 'whole exome sequencing assay',\n",
       " 'TMT quantitation assay',\n",
       " 'single-cell RNA sequencing assay',\n",
       " 'single-nucleus RNA sequencing assay',\n",
       " 'ATAC-seq assay',\n",
       " 'active avoidance learning behavior assay',\n",
       " 'snpArray',\n",
       " 'RNA array',\n",
       " 'cell viability assay',\n",
       " 'conventional MRI',\n",
       " 'single-cell whole genome sequencing assay',\n",
       " 'immunohistochemistry',\n",
       " 'immunofluorescence',\n",
       " 'western blot assay',\n",
       " 'single-nucleus ATAC-seq assay',\n",
       " '3D microtissue viability']"
      ]
     },
     "execution_count": 5,
     "metadata": {},
     "output_type": "execute_result"
    }
   ],
   "source": [
    "assays = list(df_full[\"assay\"].value_counts()[:20].reset_index()[\"index\"])\n",
    "assays"
   ]
  },
  {
   "cell_type": "code",
   "execution_count": 6,
   "metadata": {},
   "outputs": [
    {
     "data": {
      "text/plain": [
       "Capstone Collection                                                                                40495\n",
       "ROSMAP                                                                                             33341\n",
       "WGS_Harmonization                                                                                  29422\n",
       "AD_CrossSpecies                                                                                    20628\n",
       "AMP-AD_DiverseCohorts                                                                              19208\n",
       "MIT_ROSMAP_Multiomics                                                                              13578\n",
       "The Johns Hopkins NF1 biospecimen repository                                                       12438\n",
       "rnaSeqReprocessing                                                                                 12334\n",
       "SV_xQTL                                                                                            10569\n",
       "LBP                                                                                                 7841\n",
       "MSBB                                                                                                7279\n",
       "TWAS                                                                                                6842\n",
       "SEA-AD                                                                                              6389\n",
       "SUNYStrokeModel                                                                                     6013\n",
       "VirusResilience_Mayo.MSBB.ROSMAP                                                                    5669\n",
       "BrainGVEX                                                                                           5143\n",
       "Genetic Studies of Neurofibromatosis                                                                4512\n",
       "MayoRNAseq                                                                                          3671\n",
       "Evaluating genetic modifiers of cutaneous neurofibromas in adults with Neurofibromatosis Type 1     3564\n",
       "iPSC                                                                                                3107\n",
       "Name: study, dtype: int64"
      ]
     },
     "execution_count": 6,
     "metadata": {},
     "output_type": "execute_result"
    }
   ],
   "source": [
    "df_full[\"study\"].value_counts()[:20]"
   ]
  },
  {
   "cell_type": "code",
   "execution_count": 7,
   "metadata": {},
   "outputs": [],
   "source": [
    "fileformats = list(df_full[\"fileFormat\"].value_counts()[\n",
    "                   :20].reset_index()['index'])"
   ]
  },
  {
   "cell_type": "code",
   "execution_count": 8,
   "metadata": {},
   "outputs": [],
   "source": [
    "temp = df_full.groupby(\n",
    "    ['assay', 'fileFormat'])['name'].count().reset_index().rename(columns={'name': 'count'})"
   ]
  },
  {
   "cell_type": "code",
   "execution_count": 9,
   "metadata": {},
   "outputs": [],
   "source": [
    "temp['countLog'] =  np.log10(temp['count'])"
   ]
  },
  {
   "cell_type": "code",
   "execution_count": 59,
   "metadata": {},
   "outputs": [
    {
     "data": {
      "text/html": [
       "<div>\n",
       "<style scoped>\n",
       "    .dataframe tbody tr th:only-of-type {\n",
       "        vertical-align: middle;\n",
       "    }\n",
       "\n",
       "    .dataframe tbody tr th {\n",
       "        vertical-align: top;\n",
       "    }\n",
       "\n",
       "    .dataframe thead th {\n",
       "        text-align: right;\n",
       "    }\n",
       "</style>\n",
       "<table border=\"1\" class=\"dataframe\">\n",
       "  <thead>\n",
       "    <tr style=\"text-align: right;\">\n",
       "      <th></th>\n",
       "      <th>fileFormat</th>\n",
       "      <th>count</th>\n",
       "      <th>proportion</th>\n",
       "    </tr>\n",
       "  </thead>\n",
       "  <tbody>\n",
       "    <tr>\n",
       "      <th>0</th>\n",
       "      <td>7z</td>\n",
       "      <td>2</td>\n",
       "      <td>0.000609</td>\n",
       "    </tr>\n",
       "    <tr>\n",
       "      <th>1</th>\n",
       "      <td>BAI</td>\n",
       "      <td>7214</td>\n",
       "      <td>2.198258</td>\n",
       "    </tr>\n",
       "    <tr>\n",
       "      <th>2</th>\n",
       "      <td>BAM</td>\n",
       "      <td>33143</td>\n",
       "      <td>10.099370</td>\n",
       "    </tr>\n",
       "    <tr>\n",
       "      <th>3</th>\n",
       "      <td>BED</td>\n",
       "      <td>619</td>\n",
       "      <td>0.188622</td>\n",
       "    </tr>\n",
       "    <tr>\n",
       "      <th>4</th>\n",
       "      <td>BMP</td>\n",
       "      <td>36</td>\n",
       "      <td>0.010970</td>\n",
       "    </tr>\n",
       "    <tr>\n",
       "      <th>...</th>\n",
       "      <td>...</td>\n",
       "      <td>...</td>\n",
       "      <td>...</td>\n",
       "    </tr>\n",
       "    <tr>\n",
       "      <th>132</th>\n",
       "      <td>unr</td>\n",
       "      <td>1</td>\n",
       "      <td>0.000305</td>\n",
       "    </tr>\n",
       "    <tr>\n",
       "      <th>133</th>\n",
       "      <td>var</td>\n",
       "      <td>5</td>\n",
       "      <td>0.001524</td>\n",
       "    </tr>\n",
       "    <tr>\n",
       "      <th>134</th>\n",
       "      <td>xlsb</td>\n",
       "      <td>4</td>\n",
       "      <td>0.001219</td>\n",
       "    </tr>\n",
       "    <tr>\n",
       "      <th>135</th>\n",
       "      <td>xlsx</td>\n",
       "      <td>653</td>\n",
       "      <td>0.198983</td>\n",
       "    </tr>\n",
       "    <tr>\n",
       "      <th>136</th>\n",
       "      <td>zip</td>\n",
       "      <td>2457</td>\n",
       "      <td>0.748700</td>\n",
       "    </tr>\n",
       "  </tbody>\n",
       "</table>\n",
       "<p>137 rows × 3 columns</p>\n",
       "</div>"
      ],
      "text/plain": [
       "    fileFormat  count  proportion\n",
       "0           7z      2    0.000609\n",
       "1          BAI   7214    2.198258\n",
       "2          BAM  33143   10.099370\n",
       "3          BED    619    0.188622\n",
       "4          BMP     36    0.010970\n",
       "..         ...    ...         ...\n",
       "132        unr      1    0.000305\n",
       "133        var      5    0.001524\n",
       "134       xlsb      4    0.001219\n",
       "135       xlsx    653    0.198983\n",
       "136        zip   2457    0.748700\n",
       "\n",
       "[137 rows x 3 columns]"
      ]
     },
     "execution_count": 59,
     "metadata": {},
     "output_type": "execute_result"
    }
   ],
   "source": [
    "temp2 = df_full.groupby(\n",
    "    ['fileFormat'])['name'].count().reset_index().rename(columns={'name': 'count'})\n",
    "\n",
    "temp2['proportion'] = temp2['count'] / temp2['count'].sum()*100\n",
    "\n",
    "temp2"
   ]
  },
  {
   "cell_type": "code",
   "execution_count": 60,
   "metadata": {},
   "outputs": [
    {
     "name": "stdout",
     "output_type": "stream",
     "text": [
      "|    | fileFormat   |   count |   proportion |\n",
      "|---:|:-------------|--------:|-------------:|\n",
      "|  2 | BAM          |   33143 |      10.0994 |\n",
      "| 75 | gz           |  133007 |      40.53   |\n"
     ]
    }
   ],
   "source": [
    "print(temp2[temp2['proportion'] > 10].to_markdown())"
   ]
  },
  {
   "cell_type": "code",
   "execution_count": 64,
   "metadata": {},
   "outputs": [
    {
     "data": {
      "text/html": [
       "<div>\n",
       "<style scoped>\n",
       "    .dataframe tbody tr th:only-of-type {\n",
       "        vertical-align: middle;\n",
       "    }\n",
       "\n",
       "    .dataframe tbody tr th {\n",
       "        vertical-align: top;\n",
       "    }\n",
       "\n",
       "    .dataframe thead th {\n",
       "        text-align: right;\n",
       "    }\n",
       "</style>\n",
       "<table border=\"1\" class=\"dataframe\">\n",
       "  <thead>\n",
       "    <tr style=\"text-align: right;\">\n",
       "      <th></th>\n",
       "      <th>assay</th>\n",
       "      <th>count</th>\n",
       "      <th>proportion</th>\n",
       "    </tr>\n",
       "  </thead>\n",
       "  <tbody>\n",
       "    <tr>\n",
       "      <th>35</th>\n",
       "      <td>RNA-seq assay</td>\n",
       "      <td>142883</td>\n",
       "      <td>43.539</td>\n",
       "    </tr>\n",
       "    <tr>\n",
       "      <th>138</th>\n",
       "      <td>whole genome sequencing assay</td>\n",
       "      <td>65646</td>\n",
       "      <td>20.004</td>\n",
       "    </tr>\n",
       "    <tr>\n",
       "      <th>99</th>\n",
       "      <td>methylation array</td>\n",
       "      <td>23599</td>\n",
       "      <td>7.191</td>\n",
       "    </tr>\n",
       "    <tr>\n",
       "      <th>14</th>\n",
       "      <td>ChIP-seq assay</td>\n",
       "      <td>18288</td>\n",
       "      <td>5.573</td>\n",
       "    </tr>\n",
       "  </tbody>\n",
       "</table>\n",
       "</div>"
      ],
      "text/plain": [
       "                             assay   count  proportion\n",
       "35                   RNA-seq assay  142883      43.539\n",
       "138  whole genome sequencing assay   65646      20.004\n",
       "99               methylation array   23599       7.191\n",
       "14                  ChIP-seq assay   18288       5.573"
      ]
     },
     "execution_count": 64,
     "metadata": {},
     "output_type": "execute_result"
    }
   ],
   "source": [
    "temp3 = df_full.groupby(\n",
    "    ['assay'])['name'].count().reset_index().rename(columns={'name': 'count'})\n",
    "temp3['proportion'] = round(temp3['count'] / temp3['count'].sum()*100,3)\n",
    "\n",
    "temp3[temp3['proportion'] > 5].sort_values(by='proportion', ascending = False)"
   ]
  },
  {
   "cell_type": "code",
   "execution_count": 63,
   "metadata": {},
   "outputs": [
    {
     "name": "stdout",
     "output_type": "stream",
     "text": [
      "| assay                         |   count |   proportion |\n",
      "|:------------------------------|--------:|-------------:|\n",
      "| RNA-seq assay                 |  142883 |       43.539 |\n",
      "| whole genome sequencing assay |   65646 |       20.004 |\n",
      "| methylation array             |   23599 |        7.191 |\n",
      "| ChIP-seq assay                |   18288 |        5.573 |\n"
     ]
    }
   ],
   "source": [
    "print(temp3[temp3['proportion'] > 5].sort_values(by='proportion', ascending = False).to_markdown(index = False))"
   ]
  },
  {
   "cell_type": "code",
   "execution_count": 66,
   "metadata": {},
   "outputs": [
    {
     "data": {
      "image/png": "[encoded data removed]",
      "text/plain": [
       "<Figure size 640x480 with 1 Axes>"
      ]
     },
     "metadata": {},
     "output_type": "display_data"
    }
   ],
   "source": [
    "ax = sns.barplot(\n",
    "    data = temp3.sort_values(by='count', ascending=False)[:10], \n",
    "    x = 'count',\n",
    "    y =  'assay',\n",
    "    hue = 'assay'\n",
    ")\n",
    "\n",
    "for container in ax.containers:\n",
    "    ax.bar_label(container)\n",
    "\n",
    "sns.despine()\n",
    "\n",
    "plt.tight_layout()\n",
    "# save the plot as JPG file\n",
    "plt.savefig(\"./imgs/assay-counts.jpg\")"
   ]
  },
  {
   "cell_type": "code",
   "execution_count": 11,
   "metadata": {},
   "outputs": [
    {
     "data": {
      "text/html": [
       "\n",
       "        <iframe\n",
       "            width=\"100%\"\n",
       "            height=\"650\"\n",
       "            src=\"http://127.0.0.1:8050/\"\n",
       "            frameborder=\"0\"\n",
       "            allowfullscreen\n",
       "            \n",
       "        ></iframe>\n",
       "        "
      ],
      "text/plain": [
       "<IPython.lib.display.IFrame at 0x1470bbbe0>"
      ]
     },
     "metadata": {},
     "output_type": "display_data"
    }
   ],
   "source": [
    "from dash import Dash, dcc, html, Input, Output\n",
    "import plotly.express as px\n",
    "\n",
    "app = Dash(__name__)\n",
    "\n",
    "\n",
    "app.layout = html.Div([\n",
    "    html.H4('file formats'),\n",
    "    dcc.Dropdown(\n",
    "        id=\"dropdown\",\n",
    "        options=list(temp['assay'].unique()),\n",
    "        value=\"immunofluorescence\",\n",
    "        clearable=False,\n",
    "    ),\n",
    "    dcc.Graph(id=\"graph\"),\n",
    "])\n",
    "\n",
    "\n",
    "@app.callback(\n",
    "    Output(\"graph\", \"figure\"),\n",
    "    Input(\"dropdown\", \"value\"))\n",
    "    \n",
    "def update_bar_chart(assay):\n",
    "    # temp = px.data.tips()  # replace with your own data source\n",
    "    mask = temp[\"assay\"] == assay\n",
    "    fig = px.bar(temp[mask], x=\"countLog\", y=\"fileFormat\",\n",
    "                 color=\"assay\", barmode=\"group\")\n",
    "    return fig\n",
    "\n",
    "\n",
    "app.run_server(debug=True)"
   ]
  },
  {
   "cell_type": "code",
   "execution_count": null,
   "metadata": {},
   "outputs": [],
   "source": []
  }
 ],
 "metadata": {
  "kernelspec": {
   "display_name": "base",
   "language": "python",
   "name": "python3"
  },
  "language_info": {
   "codemirror_mode": {
    "name": "ipython",
    "version": 3
   },
   "file_extension": ".py",
   "mimetype": "text/x-python",
   "name": "python",
   "nbconvert_exporter": "python",
   "pygments_lexer": "ipython3",
   "version": "3.10.13"
  }
 },
 "nbformat": 4,
 "nbformat_minor": 2
}
